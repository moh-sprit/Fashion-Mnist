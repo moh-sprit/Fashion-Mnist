{
  "nbformat": 4,
  "nbformat_minor": 0,
  "metadata": {
    "colab": {
      "name": "Fashion_mnist.ipynb",
      "provenance": [],
      "collapsed_sections": []
    },
    "kernelspec": {
      "name": "python3",
      "display_name": "Python 3"
    },
    "language_info": {
      "name": "python"
    }
  },
  "cells": [
    {
      "cell_type": "code",
      "execution_count": null,
      "metadata": {
        "id": "tDBFSrAyIfK7"
      },
      "outputs": [],
      "source": [
        "\n",
        "import torch\n",
        "import torchvision.models as models\n",
        "import torch.nn as nn\n",
        "import torch.nn.functional as F\n",
        "import torch.utils.data\n",
        "import torch.optim as optim\n",
        "import torchvision\n",
        "import torchvision.transforms as transforms\n",
        "import matplotlib.pyplot as plt\n",
        "import numpy as np\n",
        "from torch.optim.lr_scheduler import StepLR\n",
        "import tensorflow as tf\n",
        "from tensorflow import keras\n",
        "from tensorflow.keras.datasets import fashion_mnist"
      ]
    },
    {
      "cell_type": "code",
      "source": [
        "torch.manual_seed(42)"
      ],
      "metadata": {
        "colab": {
          "base_uri": "https://localhost:8080/"
        },
        "id": "oNy4-C91KQP0",
        "outputId": "c6bec858-8010-4faf-eefc-4850ff6960fe"
      },
      "execution_count": null,
      "outputs": [
        {
          "output_type": "execute_result",
          "data": {
            "text/plain": [
              "<torch._C.Generator at 0x7f0f723f0230>"
            ]
          },
          "metadata": {},
          "execution_count": 2
        }
      ]
    },
    {
      "cell_type": "code",
      "source": [
        "(X_train, y_train), (X_test, y_test) = fashion_mnist.load_data()"
      ],
      "metadata": {
        "id": "qMyokz_IKQrt",
        "colab": {
          "base_uri": "https://localhost:8080/"
        },
        "outputId": "4cd5e721-ed61-4574-dbb0-b1f6bf4473b9"
      },
      "execution_count": null,
      "outputs": [
        {
          "output_type": "stream",
          "name": "stdout",
          "text": [
            "Downloading data from https://storage.googleapis.com/tensorflow/tf-keras-datasets/train-labels-idx1-ubyte.gz\n",
            "32768/29515 [=================================] - 0s 0us/step\n",
            "40960/29515 [=========================================] - 0s 0us/step\n",
            "Downloading data from https://storage.googleapis.com/tensorflow/tf-keras-datasets/train-images-idx3-ubyte.gz\n",
            "26427392/26421880 [==============================] - 0s 0us/step\n",
            "26435584/26421880 [==============================] - 0s 0us/step\n",
            "Downloading data from https://storage.googleapis.com/tensorflow/tf-keras-datasets/t10k-labels-idx1-ubyte.gz\n",
            "16384/5148 [===============================================================================================] - 0s 0us/step\n",
            "Downloading data from https://storage.googleapis.com/tensorflow/tf-keras-datasets/t10k-images-idx3-ubyte.gz\n",
            "4423680/4422102 [==============================] - 0s 0us/step\n",
            "4431872/4422102 [==============================] - 0s 0us/step\n"
          ]
        }
      ]
    },
    {
      "cell_type": "code",
      "source": [
        "X_train[0].shape"
      ],
      "metadata": {
        "colab": {
          "base_uri": "https://localhost:8080/"
        },
        "id": "v0-vCjgsb0u1",
        "outputId": "b1d54742-9860-4d8b-f083-3a04844d874e"
      },
      "execution_count": null,
      "outputs": [
        {
          "output_type": "execute_result",
          "data": {
            "text/plain": [
              "(28, 28)"
            ]
          },
          "metadata": {},
          "execution_count": 7
        }
      ]
    },
    {
      "cell_type": "code",
      "source": [
        "print('X_train: ' + str(X_train.shape))\n",
        "print('Y_train: ' + str(y_train.shape))\n",
        "print('X_test:  '  + str(X_test.shape))\n",
        "print('Y_test:  '  + str(y_test.shape))"
      ],
      "metadata": {
        "colab": {
          "base_uri": "https://localhost:8080/"
        },
        "id": "UCgwrmKvKQ5O",
        "outputId": "2d0d2e0b-dbfc-4e92-80f0-8c582c2a5f58"
      },
      "execution_count": null,
      "outputs": [
        {
          "output_type": "stream",
          "name": "stdout",
          "text": [
            "X_train: (60000, 28, 28)\n",
            "Y_train: (60000,)\n",
            "X_test:  (10000, 28, 28)\n",
            "Y_test:  (10000,)\n"
          ]
        }
      ]
    },
    {
      "cell_type": "code",
      "source": [
        "import matplotlib.pyplot as plt\n",
        "for i in range(9):\t\n",
        "    plt.subplot(330 + 1 + i)\n",
        "    plt.imshow(X_train[i], cmap=plt.get_cmap('gray'))\n",
        "plt.show()"
      ],
      "metadata": {
        "colab": {
          "base_uri": "https://localhost:8080/",
          "height": 268
        },
        "id": "uWSQGSQjKRFd",
        "outputId": "c47edd1f-ea08-4312-adc3-a48975cbeb57"
      },
      "execution_count": null,
      "outputs": [
        {
          "output_type": "display_data",
          "data": {
            "text/plain": [
              "<Figure size 432x288 with 9 Axes>"
            ],
            "image/png": "[encoded data removed]"
          },
          "metadata": {
            "needs_background": "light"
          }
        }
      ]
    },
    {
      "cell_type": "code",
      "source": [
        "BATCH_SIZE = 256\n",
        "\n",
        "torch_X_train = torch.from_numpy(X_train).type(torch.LongTensor)\n",
        "torch_y_train = torch.from_numpy(y_train).type(torch.LongTensor) \n",
        "\n",
        "torch_X_train = torch_X_train.view(-1,1,28,28).float()\n",
        "torch_X_train.shape"
      ],
      "metadata": {
        "colab": {
          "base_uri": "https://localhost:8080/"
        },
        "id": "iQJulvXuKRTT",
        "outputId": "797819ad-8ffb-494a-e46c-0a28c2e3673d"
      },
      "execution_count": null,
      "outputs": [
        {
          "output_type": "stream",
          "name": "stderr",
          "text": [
            "/usr/local/lib/python3.7/dist-packages/ipykernel_launcher.py:3: UserWarning: The given NumPy array is not writable, and PyTorch does not support non-writable tensors. This means writing to this tensor will result in undefined behavior. You may want to copy the array to protect its data or make it writable before converting it to a tensor. This type of warning will be suppressed for the rest of this program. (Triggered internally at  ../torch/csrc/utils/tensor_numpy.cpp:178.)\n",
            "  This is separate from the ipykernel package so we can avoid doing imports until\n"
          ]
        },
        {
          "output_type": "execute_result",
          "data": {
            "text/plain": [
              "torch.Size([60000, 1, 28, 28])"
            ]
          },
          "metadata": {},
          "execution_count": 10
        }
      ]
    },
    {
      "cell_type": "code",
      "source": [
        "torch_X_test = torch.from_numpy(X_test).type(torch.LongTensor)\n",
        "torch_y_test = torch.from_numpy(y_test).type(torch.LongTensor)\n",
        "\n",
        "torch_X_test = torch_X_test.view(-1,1,28,28).float()"
      ],
      "metadata": {
        "id": "-OLPM5y1PPGv"
      },
      "execution_count": null,
      "outputs": []
    },
    {
      "cell_type": "code",
      "source": [
        "train = torch.utils.data.TensorDataset(torch_X_train,torch_y_train)\n",
        "test = torch.utils.data.TensorDataset(torch_X_test,torch_y_test)"
      ],
      "metadata": {
        "id": "hpSgZPqQPPTM"
      },
      "execution_count": null,
      "outputs": []
    },
    {
      "cell_type": "code",
      "source": [
        "train_loader = torch.utils.data.DataLoader(train, batch_size = BATCH_SIZE, shuffle = True)\n",
        "test_loader = torch.utils.data.DataLoader(test, batch_size = BATCH_SIZE, shuffle = Fulse)"
      ],
      "metadata": {
        "id": "VfGO8EYQPPfv"
      },
      "execution_count": null,
      "outputs": []
    },
    {
      "cell_type": "code",
      "source": [
        "class CNN(nn.Module):\n",
        "\n",
        "    def __init__(self):\n",
        "        super(CNN, self).__init__()\n",
        "        self.conv1 = nn.Conv2d(1, 64, kernel_size = 3)\n",
        "        self.conv1_bn = nn.BatchNorm2d(64)\n",
        "        self.conv2 = nn.Conv2d(64, 64, kernel_size = 3)\n",
        "        self.conv2_bn = nn.BatchNorm2d(64)\n",
        "        self.conv3 = nn.Conv2d(64, 128, kernel_size = 3)\n",
        "        self.conv3_bn = nn.BatchNorm2d(128)\n",
        "        self.conv4 = nn.Conv2d(128, 128, kernel_size = 3)\n",
        "        self.conv4_bn = nn.BatchNorm2d(128)\n",
        "        self.conv5 = nn.Conv2d(128, 128, kernel_size = 5)\n",
        "        self.conv5_bn = nn.BatchNorm2d(128)\n",
        "        self.conv5_drop = nn.Dropout2d()\n",
        "        self.fc1 = nn.Linear(2048, 512)\n",
        "        self.fc1_bn = nn.BatchNorm1d(512)\n",
        "        self.fc2 = nn.Linear(512, 50)\n",
        "        self.fc2_bn = nn.BatchNorm1d(50)\n",
        "        self.fc3 = nn.Linear(50 , 10)\n",
        "\n",
        "    def forward(self, x):\n",
        "        x = self.conv1(x)\n",
        "        x = F.relu(self.conv1_bn(x))\n",
        "        x = self.conv2(x)\n",
        "        x = F.relu(F.max_pool2d(self.conv2_bn(x), 2))\n",
        "        x = self.conv3(x)\n",
        "        x = F.relu(self.conv3_bn(x))\n",
        "        x = self.conv4(x)\n",
        "        x = F.relu(self.conv4_bn(x))\n",
        "        x = self.conv5(x)\n",
        "        x = F.relu(self.conv5_drop(self.conv5_bn(x)))\n",
        "        x = x.view(-1, 2048)\n",
        "        x = self.fc1(x)\n",
        "        x = F.relu(self.fc1_bn(x))\n",
        "        x = self.fc2(x)\n",
        "        x = F.relu(self.fc2_bn(x))\n",
        "        x = F.dropout(x, training=self.training)\n",
        "        x = self.fc3(x)\n",
        "        return F.log_softmax(x)"
      ],
      "metadata": {
        "id": "4EBMp4O9P1W_"
      },
      "execution_count": null,
      "outputs": []
    },
    {
      "cell_type": "code",
      "source": [
        "cnn = CNN()\n",
        "print(cnn)"
      ],
      "metadata": {
        "colab": {
          "base_uri": "https://localhost:8080/"
        },
        "id": "GinuaiOjP166",
        "outputId": "892fc1af-725c-4a9e-9596-b8d2b2e4c4ed"
      },
      "execution_count": null,
      "outputs": [
        {
          "output_type": "stream",
          "name": "stdout",
          "text": [
            "CNN(\n",
            "  (conv1): Conv2d(1, 64, kernel_size=(3, 3), stride=(1, 1))\n",
            "  (conv1_bn): BatchNorm2d(64, eps=1e-05, momentum=0.1, affine=True, track_running_stats=True)\n",
            "  (conv2): Conv2d(64, 64, kernel_size=(3, 3), stride=(1, 1))\n",
            "  (conv2_bn): BatchNorm2d(64, eps=1e-05, momentum=0.1, affine=True, track_running_stats=True)\n",
            "  (conv3): Conv2d(64, 128, kernel_size=(3, 3), stride=(1, 1))\n",
            "  (conv3_bn): BatchNorm2d(128, eps=1e-05, momentum=0.1, affine=True, track_running_stats=True)\n",
            "  (conv4): Conv2d(128, 128, kernel_size=(3, 3), stride=(1, 1))\n",
            "  (conv4_bn): BatchNorm2d(128, eps=1e-05, momentum=0.1, affine=True, track_running_stats=True)\n",
            "  (conv5): Conv2d(128, 128, kernel_size=(5, 5), stride=(1, 1))\n",
            "  (conv5_bn): BatchNorm2d(128, eps=1e-05, momentum=0.1, affine=True, track_running_stats=True)\n",
            "  (conv5_drop): Dropout2d(p=0.5, inplace=False)\n",
            "  (fc1): Linear(in_features=2048, out_features=512, bias=True)\n",
            "  (fc1_bn): BatchNorm1d(512, eps=1e-05, momentum=0.1, affine=True, track_running_stats=True)\n",
            "  (fc2): Linear(in_features=512, out_features=50, bias=True)\n",
            "  (fc2_bn): BatchNorm1d(50, eps=1e-05, momentum=0.1, affine=True, track_running_stats=True)\n",
            "  (fc3): Linear(in_features=50, out_features=10, bias=True)\n",
            ")\n"
          ]
        }
      ]
    },
    {
      "cell_type": "code",
      "source": [
        "it = iter(train_loader)\n",
        "X_batch, y_batch = next(it)\n",
        "print(X_batch.shape)\n",
        "print(y_batch.shape)\n",
        "\n",
        "if torch.cuda.is_available():\n",
        "    X_batch = X_batch.cuda()\n",
        "    y_batch = y_batch.cuda()\n",
        "    \n",
        "print(cnn.forward(X_batch).shape)"
      ],
      "metadata": {
        "colab": {
          "base_uri": "https://localhost:8080/"
        },
        "id": "825t210eP2Ja",
        "outputId": "d33f92e0-0cc2-4592-e23c-04c04ef87c65"
      },
      "execution_count": null,
      "outputs": [
        {
          "output_type": "stream",
          "name": "stdout",
          "text": [
            "torch.Size([256, 1, 28, 28])\n",
            "torch.Size([256])\n",
            "torch.Size([256, 10])\n"
          ]
        },
        {
          "output_type": "stream",
          "name": "stderr",
          "text": [
            "/usr/local/lib/python3.7/dist-packages/ipykernel_launcher.py:40: UserWarning: Implicit dimension choice for log_softmax has been deprecated. Change the call to include dim=X as an argument.\n"
          ]
        }
      ]
    },
    {
      "cell_type": "code",
      "source": [
        "for batch_idx, (data, target) in enumerate(train_loader):\n",
        "    if batch_idx == 0:\n",
        "        print(data.shape)\n",
        "        print(target.shape)"
      ],
      "metadata": {
        "colab": {
          "base_uri": "https://localhost:8080/"
        },
        "id": "ZXibFBLpP2WP",
        "outputId": "a9bd7824-e520-4316-eac3-ed10d6f920a6"
      },
      "execution_count": null,
      "outputs": [
        {
          "output_type": "stream",
          "name": "stdout",
          "text": [
            "torch.Size([256, 1, 28, 28])\n",
            "torch.Size([256])\n"
          ]
        }
      ]
    },
    {
      "cell_type": "code",
      "source": [
        "learning_rate = 0.01\n",
        "momentum = 0.5\n",
        "n_epochs = 15\n",
        "\n",
        "optimizer = optim.SGD(cnn.parameters(), lr=learning_rate,momentum=momentum)\n",
        "scheduler = StepLR(optimizer,step_size=1 , gamma=0.9)"
      ],
      "metadata": {
        "id": "Yq68S2sUP2hr"
      },
      "execution_count": null,
      "outputs": []
    },
    {
      "cell_type": "code",
      "source": [
        "train_losses = []\n",
        "train_counter = []\n",
        "test_losses = []"
      ],
      "metadata": {
        "id": "1x4vf_8qPPqS"
      },
      "execution_count": null,
      "outputs": []
    },
    {
      "cell_type": "code",
      "source": [
        "def train(epoch):\n",
        "    cnn.train()\n",
        "    train_loss = 0\n",
        "    scheduler.step()\n",
        "    for batch_idx, (data, target) in enumerate(train_loader):\n",
        "        optimizer.zero_grad()\n",
        "\n",
        "        if torch.cuda.is_available():\n",
        "            data = data.cuda()\n",
        "            target = target.cuda()\n",
        "\n",
        "        output = cnn(data)\n",
        "        loss = F.nll_loss(output, target)\n",
        "        loss.backward()\n",
        "        optimizer.step()\n",
        "\n",
        "        if batch_idx % 25 == 0: #every 25 * batchsize sample we print results\n",
        "            print('Train Epoch: {} [{}/{} ({:.0f}%)]\\tLoss: {:.6f}'.format(\n",
        "            epoch, batch_idx * len(data), len(train_loader.dataset),\n",
        "            100. * batch_idx / len(train_loader), loss.item()))\n",
        "      \n",
        "        train_loss += loss.item()\n",
        "\n",
        "    train_losses.append(train_loss)\n",
        "    train_counter.append(epoch)\n",
        "\n",
        "    torch.save(cnn.state_dict(), 'model.pth')\n",
        "    torch.save(cnn.state_dict(), 'optimizer.pth')"
      ],
      "metadata": {
        "id": "YAbl_mLpQY9U"
      },
      "execution_count": null,
      "outputs": []
    },
    {
      "cell_type": "code",
      "source": [
        "def test():\n",
        "  cnn.eval()\n",
        "  test_loss = 0\n",
        "  correct = 0\n",
        "  with torch.no_grad():\n",
        "    for data, target in test_loader:\n",
        "\n",
        "        if torch.cuda.is_available():\n",
        "            data = data.cuda()\n",
        "            target = target.cuda()\n",
        "\n",
        "        output = cnn(data)\n",
        "        test_loss += F.nll_loss(output, target, size_average=False).item()\n",
        "        pred = output.data.max(1, keepdim=True)[1]\n",
        "        correct += pred.eq(target.data.view_as(pred)).sum()\n",
        "\n",
        "  test_loss /= len(test_loader.dataset)\n",
        "  test_losses.append(test_loss)\n",
        "  print('\\nTest set: Avg. loss: {:.4f}, Accuracy: {}/{} ({:.0f}%)\\n'.format(\n",
        "    test_loss, correct, len(test_loader.dataset),\n",
        "    100. * correct / len(test_loader.dataset)))"
      ],
      "metadata": {
        "id": "BfOOe-09QZLT"
      },
      "execution_count": null,
      "outputs": []
    },
    {
      "cell_type": "code",
      "source": [
        "for epoch in range(1, n_epochs + 1):\n",
        "  train(epoch)\n",
        "  test()"
      ],
      "metadata": {
        "colab": {
          "base_uri": "https://localhost:8080/"
        },
        "id": "KZdA1-8eQZX5",
        "outputId": "613f2500-0f22-4587-cd18-0c645e6462dd"
      },
      "execution_count": null,
      "outputs": [
        {
          "output_type": "stream",
          "name": "stderr",
          "text": [
            "/usr/local/lib/python3.7/dist-packages/torch/optim/lr_scheduler.py:136: UserWarning: Detected call of `lr_scheduler.step()` before `optimizer.step()`. In PyTorch 1.1.0 and later, you should call them in the opposite order: `optimizer.step()` before `lr_scheduler.step()`.  Failure to do this will result in PyTorch skipping the first value of the learning rate schedule. See more details at https://pytorch.org/docs/stable/optim.html#how-to-adjust-learning-rate\n",
            "  \"https://pytorch.org/docs/stable/optim.html#how-to-adjust-learning-rate\", UserWarning)\n",
            "/usr/local/lib/python3.7/dist-packages/ipykernel_launcher.py:40: UserWarning: Implicit dimension choice for log_softmax has been deprecated. Change the call to include dim=X as an argument.\n"
          ]
        },
        {
          "output_type": "stream",
          "name": "stdout",
          "text": [
            "Train Epoch: 1 [0/60000 (0%)]\tLoss: 2.428916\n",
            "Train Epoch: 1 [6400/60000 (11%)]\tLoss: 1.488712\n",
            "Train Epoch: 1 [12800/60000 (21%)]\tLoss: 1.210967\n",
            "Train Epoch: 1 [19200/60000 (32%)]\tLoss: 1.096064\n",
            "Train Epoch: 1 [25600/60000 (43%)]\tLoss: 0.982303\n",
            "Train Epoch: 1 [32000/60000 (53%)]\tLoss: 0.910973\n",
            "Train Epoch: 1 [38400/60000 (64%)]\tLoss: 0.858656\n",
            "Train Epoch: 1 [44800/60000 (74%)]\tLoss: 0.851707\n",
            "Train Epoch: 1 [51200/60000 (85%)]\tLoss: 0.776909\n",
            "Train Epoch: 1 [57600/60000 (96%)]\tLoss: 0.706719\n"
          ]
        },
        {
          "output_type": "stream",
          "name": "stderr",
          "text": [
            "/usr/local/lib/python3.7/dist-packages/torch/nn/_reduction.py:42: UserWarning: size_average and reduce args will be deprecated, please use reduction='sum' instead.\n",
            "  warnings.warn(warning.format(ret))\n"
          ]
        },
        {
          "output_type": "stream",
          "name": "stdout",
          "text": [
            "\n",
            "Test set: Avg. loss: 0.5833, Accuracy: 8210/10000 (82%)\n",
            "\n",
            "Train Epoch: 2 [0/60000 (0%)]\tLoss: 0.702258\n",
            "Train Epoch: 2 [6400/60000 (11%)]\tLoss: 0.740669\n",
            "Train Epoch: 2 [12800/60000 (21%)]\tLoss: 0.701475\n",
            "Train Epoch: 2 [19200/60000 (32%)]\tLoss: 0.670036\n",
            "Train Epoch: 2 [25600/60000 (43%)]\tLoss: 0.629678\n",
            "Train Epoch: 2 [32000/60000 (53%)]\tLoss: 0.631750\n",
            "Train Epoch: 2 [38400/60000 (64%)]\tLoss: 0.641136\n",
            "Train Epoch: 2 [44800/60000 (74%)]\tLoss: 0.660413\n",
            "Train Epoch: 2 [51200/60000 (85%)]\tLoss: 0.565957\n",
            "Train Epoch: 2 [57600/60000 (96%)]\tLoss: 0.548489\n",
            "\n",
            "Test set: Avg. loss: 0.4213, Accuracy: 8665/10000 (87%)\n",
            "\n",
            "Train Epoch: 3 [0/60000 (0%)]\tLoss: 0.544160\n",
            "Train Epoch: 3 [6400/60000 (11%)]\tLoss: 0.569101\n",
            "Train Epoch: 3 [12800/60000 (21%)]\tLoss: 0.468682\n",
            "Train Epoch: 3 [19200/60000 (32%)]\tLoss: 0.550347\n",
            "Train Epoch: 3 [25600/60000 (43%)]\tLoss: 0.519762\n",
            "Train Epoch: 3 [32000/60000 (53%)]\tLoss: 0.500497\n",
            "Train Epoch: 3 [38400/60000 (64%)]\tLoss: 0.479412\n",
            "Train Epoch: 3 [44800/60000 (74%)]\tLoss: 0.582761\n",
            "Train Epoch: 3 [51200/60000 (85%)]\tLoss: 0.554140\n",
            "Train Epoch: 3 [57600/60000 (96%)]\tLoss: 0.419019\n",
            "\n",
            "Test set: Avg. loss: 0.3672, Accuracy: 8760/10000 (88%)\n",
            "\n",
            "Train Epoch: 4 [0/60000 (0%)]\tLoss: 0.448111\n",
            "Train Epoch: 4 [6400/60000 (11%)]\tLoss: 0.505432\n",
            "Train Epoch: 4 [12800/60000 (21%)]\tLoss: 0.388561\n",
            "Train Epoch: 4 [19200/60000 (32%)]\tLoss: 0.506051\n",
            "Train Epoch: 4 [25600/60000 (43%)]\tLoss: 0.457723\n",
            "Train Epoch: 4 [32000/60000 (53%)]\tLoss: 0.486325\n",
            "Train Epoch: 4 [38400/60000 (64%)]\tLoss: 0.430566\n",
            "Train Epoch: 4 [44800/60000 (74%)]\tLoss: 0.514364\n",
            "Train Epoch: 4 [51200/60000 (85%)]\tLoss: 0.497851\n",
            "Train Epoch: 4 [57600/60000 (96%)]\tLoss: 0.372021\n",
            "\n",
            "Test set: Avg. loss: 0.3361, Accuracy: 8822/10000 (88%)\n",
            "\n",
            "Train Epoch: 5 [0/60000 (0%)]\tLoss: 0.410565\n",
            "Train Epoch: 5 [6400/60000 (11%)]\tLoss: 0.482093\n",
            "Train Epoch: 5 [12800/60000 (21%)]\tLoss: 0.340091\n",
            "Train Epoch: 5 [19200/60000 (32%)]\tLoss: 0.443440\n",
            "Train Epoch: 5 [25600/60000 (43%)]\tLoss: 0.375729\n",
            "Train Epoch: 5 [32000/60000 (53%)]\tLoss: 0.444125\n",
            "Train Epoch: 5 [38400/60000 (64%)]\tLoss: 0.385691\n",
            "Train Epoch: 5 [44800/60000 (74%)]\tLoss: 0.457565\n",
            "Train Epoch: 5 [51200/60000 (85%)]\tLoss: 0.503828\n",
            "Train Epoch: 5 [57600/60000 (96%)]\tLoss: 0.366441\n",
            "\n",
            "Test set: Avg. loss: 0.3158, Accuracy: 8933/10000 (89%)\n",
            "\n",
            "Train Epoch: 6 [0/60000 (0%)]\tLoss: 0.318816\n",
            "Train Epoch: 6 [6400/60000 (11%)]\tLoss: 0.396737\n",
            "Train Epoch: 6 [12800/60000 (21%)]\tLoss: 0.314292\n",
            "Train Epoch: 6 [19200/60000 (32%)]\tLoss: 0.411533\n",
            "Train Epoch: 6 [25600/60000 (43%)]\tLoss: 0.364612\n",
            "Train Epoch: 6 [32000/60000 (53%)]\tLoss: 0.385235\n",
            "Train Epoch: 6 [38400/60000 (64%)]\tLoss: 0.371408\n",
            "Train Epoch: 6 [44800/60000 (74%)]\tLoss: 0.471480\n",
            "Train Epoch: 6 [51200/60000 (85%)]\tLoss: 0.396197\n",
            "Train Epoch: 6 [57600/60000 (96%)]\tLoss: 0.352064\n",
            "\n",
            "Test set: Avg. loss: 0.2855, Accuracy: 9024/10000 (90%)\n",
            "\n",
            "Train Epoch: 7 [0/60000 (0%)]\tLoss: 0.276652\n",
            "Train Epoch: 7 [6400/60000 (11%)]\tLoss: 0.432873\n",
            "Train Epoch: 7 [12800/60000 (21%)]\tLoss: 0.309934\n",
            "Train Epoch: 7 [19200/60000 (32%)]\tLoss: 0.385563\n",
            "Train Epoch: 7 [25600/60000 (43%)]\tLoss: 0.298836\n",
            "Train Epoch: 7 [32000/60000 (53%)]\tLoss: 0.339260\n",
            "Train Epoch: 7 [38400/60000 (64%)]\tLoss: 0.356086\n",
            "Train Epoch: 7 [44800/60000 (74%)]\tLoss: 0.437405\n",
            "Train Epoch: 7 [51200/60000 (85%)]\tLoss: 0.387006\n",
            "Train Epoch: 7 [57600/60000 (96%)]\tLoss: 0.272899\n",
            "\n",
            "Test set: Avg. loss: 0.2815, Accuracy: 9031/10000 (90%)\n",
            "\n",
            "Train Epoch: 8 [0/60000 (0%)]\tLoss: 0.309246\n",
            "Train Epoch: 8 [6400/60000 (11%)]\tLoss: 0.385981\n",
            "Train Epoch: 8 [12800/60000 (21%)]\tLoss: 0.318323\n",
            "Train Epoch: 8 [19200/60000 (32%)]\tLoss: 0.374912\n",
            "Train Epoch: 8 [25600/60000 (43%)]\tLoss: 0.315382\n",
            "Train Epoch: 8 [32000/60000 (53%)]\tLoss: 0.375565\n",
            "Train Epoch: 8 [38400/60000 (64%)]\tLoss: 0.341686\n",
            "Train Epoch: 8 [44800/60000 (74%)]\tLoss: 0.370861\n",
            "Train Epoch: 8 [51200/60000 (85%)]\tLoss: 0.388025\n",
            "Train Epoch: 8 [57600/60000 (96%)]\tLoss: 0.301955\n",
            "\n",
            "Test set: Avg. loss: 0.2691, Accuracy: 9053/10000 (91%)\n",
            "\n",
            "Train Epoch: 9 [0/60000 (0%)]\tLoss: 0.267174\n",
            "Train Epoch: 9 [6400/60000 (11%)]\tLoss: 0.367201\n",
            "Train Epoch: 9 [12800/60000 (21%)]\tLoss: 0.259791\n",
            "Train Epoch: 9 [19200/60000 (32%)]\tLoss: 0.350759\n",
            "Train Epoch: 9 [25600/60000 (43%)]\tLoss: 0.301481\n",
            "Train Epoch: 9 [32000/60000 (53%)]\tLoss: 0.351994\n",
            "Train Epoch: 9 [38400/60000 (64%)]\tLoss: 0.329957\n",
            "Train Epoch: 9 [44800/60000 (74%)]\tLoss: 0.401432\n",
            "Train Epoch: 9 [51200/60000 (85%)]\tLoss: 0.328728\n",
            "Train Epoch: 9 [57600/60000 (96%)]\tLoss: 0.281426\n",
            "\n",
            "Test set: Avg. loss: 0.2664, Accuracy: 9070/10000 (91%)\n",
            "\n",
            "Train Epoch: 10 [0/60000 (0%)]\tLoss: 0.264793\n",
            "Train Epoch: 10 [6400/60000 (11%)]\tLoss: 0.355755\n",
            "Train Epoch: 10 [12800/60000 (21%)]\tLoss: 0.258734\n",
            "Train Epoch: 10 [19200/60000 (32%)]\tLoss: 0.316530\n",
            "Train Epoch: 10 [25600/60000 (43%)]\tLoss: 0.312203\n",
            "Train Epoch: 10 [32000/60000 (53%)]\tLoss: 0.322132\n",
            "Train Epoch: 10 [38400/60000 (64%)]\tLoss: 0.265563\n",
            "Train Epoch: 10 [44800/60000 (74%)]\tLoss: 0.351808\n",
            "Train Epoch: 10 [51200/60000 (85%)]\tLoss: 0.338638\n",
            "Train Epoch: 10 [57600/60000 (96%)]\tLoss: 0.269896\n",
            "\n",
            "Test set: Avg. loss: 0.2515, Accuracy: 9123/10000 (91%)\n",
            "\n",
            "Train Epoch: 11 [0/60000 (0%)]\tLoss: 0.191669\n",
            "Train Epoch: 11 [6400/60000 (11%)]\tLoss: 0.347619\n",
            "Train Epoch: 11 [12800/60000 (21%)]\tLoss: 0.224095\n",
            "Train Epoch: 11 [19200/60000 (32%)]\tLoss: 0.315935\n",
            "Train Epoch: 11 [25600/60000 (43%)]\tLoss: 0.296814\n",
            "Train Epoch: 11 [32000/60000 (53%)]\tLoss: 0.297728\n",
            "Train Epoch: 11 [38400/60000 (64%)]\tLoss: 0.290834\n",
            "Train Epoch: 11 [44800/60000 (74%)]\tLoss: 0.362608\n",
            "Train Epoch: 11 [51200/60000 (85%)]\tLoss: 0.368204\n",
            "Train Epoch: 11 [57600/60000 (96%)]\tLoss: 0.292749\n",
            "\n",
            "Test set: Avg. loss: 0.2548, Accuracy: 9102/10000 (91%)\n",
            "\n",
            "Train Epoch: 12 [0/60000 (0%)]\tLoss: 0.230548\n",
            "Train Epoch: 12 [6400/60000 (11%)]\tLoss: 0.352969\n",
            "Train Epoch: 12 [12800/60000 (21%)]\tLoss: 0.262982\n",
            "Train Epoch: 12 [19200/60000 (32%)]\tLoss: 0.272712\n",
            "Train Epoch: 12 [25600/60000 (43%)]\tLoss: 0.289465\n",
            "Train Epoch: 12 [32000/60000 (53%)]\tLoss: 0.295806\n",
            "Train Epoch: 12 [38400/60000 (64%)]\tLoss: 0.280502\n",
            "Train Epoch: 12 [44800/60000 (74%)]\tLoss: 0.356502\n",
            "Train Epoch: 12 [51200/60000 (85%)]\tLoss: 0.322638\n",
            "Train Epoch: 12 [57600/60000 (96%)]\tLoss: 0.274189\n",
            "\n",
            "Test set: Avg. loss: 0.2476, Accuracy: 9139/10000 (91%)\n",
            "\n",
            "Train Epoch: 13 [0/60000 (0%)]\tLoss: 0.238778\n",
            "Train Epoch: 13 [6400/60000 (11%)]\tLoss: 0.336707\n",
            "Train Epoch: 13 [12800/60000 (21%)]\tLoss: 0.243995\n",
            "Train Epoch: 13 [19200/60000 (32%)]\tLoss: 0.335050\n",
            "Train Epoch: 13 [25600/60000 (43%)]\tLoss: 0.275144\n",
            "Train Epoch: 13 [32000/60000 (53%)]\tLoss: 0.323266\n",
            "Train Epoch: 13 [38400/60000 (64%)]\tLoss: 0.279197\n",
            "Train Epoch: 13 [44800/60000 (74%)]\tLoss: 0.304507\n",
            "Train Epoch: 13 [51200/60000 (85%)]\tLoss: 0.314389\n",
            "Train Epoch: 13 [57600/60000 (96%)]\tLoss: 0.239973\n",
            "\n",
            "Test set: Avg. loss: 0.2519, Accuracy: 9113/10000 (91%)\n",
            "\n",
            "Train Epoch: 14 [0/60000 (0%)]\tLoss: 0.245488\n",
            "Train Epoch: 14 [6400/60000 (11%)]\tLoss: 0.290312\n",
            "Train Epoch: 14 [12800/60000 (21%)]\tLoss: 0.198852\n",
            "Train Epoch: 14 [19200/60000 (32%)]\tLoss: 0.277588\n",
            "Train Epoch: 14 [25600/60000 (43%)]\tLoss: 0.270474\n",
            "Train Epoch: 14 [32000/60000 (53%)]\tLoss: 0.305646\n",
            "Train Epoch: 14 [38400/60000 (64%)]\tLoss: 0.280055\n",
            "Train Epoch: 14 [44800/60000 (74%)]\tLoss: 0.350903\n",
            "Train Epoch: 14 [51200/60000 (85%)]\tLoss: 0.329576\n",
            "Train Epoch: 14 [57600/60000 (96%)]\tLoss: 0.206920\n",
            "\n",
            "Test set: Avg. loss: 0.2392, Accuracy: 9169/10000 (92%)\n",
            "\n",
            "Train Epoch: 15 [0/60000 (0%)]\tLoss: 0.220579\n",
            "Train Epoch: 15 [6400/60000 (11%)]\tLoss: 0.313488\n",
            "Train Epoch: 15 [12800/60000 (21%)]\tLoss: 0.188842\n",
            "Train Epoch: 15 [19200/60000 (32%)]\tLoss: 0.278330\n",
            "Train Epoch: 15 [25600/60000 (43%)]\tLoss: 0.239345\n",
            "Train Epoch: 15 [32000/60000 (53%)]\tLoss: 0.252989\n",
            "Train Epoch: 15 [38400/60000 (64%)]\tLoss: 0.270417\n",
            "Train Epoch: 15 [44800/60000 (74%)]\tLoss: 0.359688\n",
            "Train Epoch: 15 [51200/60000 (85%)]\tLoss: 0.287786\n",
            "Train Epoch: 15 [57600/60000 (96%)]\tLoss: 0.252117\n",
            "\n",
            "Test set: Avg. loss: 0.2498, Accuracy: 9127/10000 (91%)\n",
            "\n"
          ]
        }
      ]
    },
    {
      "cell_type": "markdown",
      "source": [
        "### Transfer Learning\n"
      ],
      "metadata": {
        "id": "B1q30S8JzDFW"
      }
    },
    {
      "cell_type": "code",
      "source": [
        "train_set = torchvision.datasets.FashionMNIST(\n",
        "root = './data/FashionMNIST',\n",
        "download = True,\n",
        "train = True,\n",
        "transform = transforms.Compose([\n",
        "transforms.Resize((224, 224)),\n",
        "transforms.ToTensor(),\n",
        "]))\n",
        "\n",
        "test_set = torchvision.datasets.FashionMNIST(\n",
        "root = './data/FashionMNIST',\n",
        "download=True,\n",
        "train=False,\n",
        "transform = transforms.Compose([\n",
        "transforms.Resize((224, 224)),\n",
        "transforms.ToTensor(),\n",
        "]))"
      ],
      "metadata": {
        "id": "rmkHasxVn2Me"
      },
      "execution_count": null,
      "outputs": []
    },
    {
      "cell_type": "code",
      "source": [
        "train_set.data[0].shape"
      ],
      "metadata": {
        "colab": {
          "base_uri": "https://localhost:8080/"
        },
        "id": "WUTIo7a9t91F",
        "outputId": "08c64ebc-31af-46db-8471-6c4716cd253d"
      },
      "execution_count": null,
      "outputs": [
        {
          "output_type": "execute_result",
          "data": {
            "text/plain": [
              "torch.Size([28, 28])"
            ]
          },
          "metadata": {},
          "execution_count": 3
        }
      ]
    },
    {
      "cell_type": "code",
      "source": [
        "BATCH_SIZE = 64"
      ],
      "metadata": {
        "id": "3iX5pXdzo_Wo"
      },
      "execution_count": null,
      "outputs": []
    },
    {
      "cell_type": "code",
      "source": [
        "train_loaderr = torch.utils.data.DataLoader(train_set, batch_size = BATCH_SIZE, shuffle = False)\n",
        "test_loaderr = torch.utils.data.DataLoader(test_set, batch_size = BATCH_SIZE, shuffle = False)"
      ],
      "metadata": {
        "id": "tMjWdgHOn4IJ"
      },
      "execution_count": null,
      "outputs": []
    },
    {
      "cell_type": "code",
      "source": [
        "model = models.resnet18(pretrained=True)\n",
        "model.conv1 = nn.Conv2d(1, 64, kernel_size=7, stride=2, padding=3, bias=False)\n",
        "for param in model.parameters():\n",
        "    param.requires_grad = False\n",
        "num_ftrs = model.fc.in_features\n",
        "model.fc = nn.Linear(num_ftrs, 10)"
      ],
      "metadata": {
        "id": "7cUAf44Nn4mq"
      },
      "execution_count": null,
      "outputs": []
    },
    {
      "cell_type": "code",
      "source": [
        "model"
      ],
      "metadata": {
        "colab": {
          "base_uri": "https://localhost:8080/"
        },
        "id": "xr8tRnSsweA9",
        "outputId": "87715a4e-c4e5-4dc3-f537-31a080bea1a9"
      },
      "execution_count": null,
      "outputs": [
        {
          "output_type": "execute_result",
          "data": {
            "text/plain": [
              "ResNet(\n",
              "  (conv1): Conv2d(1, 64, kernel_size=(7, 7), stride=(2, 2), padding=(3, 3), bias=False)\n",
              "  (bn1): BatchNorm2d(64, eps=1e-05, momentum=0.1, affine=True, track_running_stats=True)\n",
              "  (relu): ReLU(inplace=True)\n",
              "  (maxpool): MaxPool2d(kernel_size=3, stride=2, padding=1, dilation=1, ceil_mode=False)\n",
              "  (layer1): Sequential(\n",
              "    (0): BasicBlock(\n",
              "      (conv1): Conv2d(64, 64, kernel_size=(3, 3), stride=(1, 1), padding=(1, 1), bias=False)\n",
              "      (bn1): BatchNorm2d(64, eps=1e-05, momentum=0.1, affine=True, track_running_stats=True)\n",
              "      (relu): ReLU(inplace=True)\n",
              "      (conv2): Conv2d(64, 64, kernel_size=(3, 3), stride=(1, 1), padding=(1, 1), bias=False)\n",
              "      (bn2): BatchNorm2d(64, eps=1e-05, momentum=0.1, affine=True, track_running_stats=True)\n",
              "    )\n",
              "    (1): BasicBlock(\n",
              "      (conv1): Conv2d(64, 64, kernel_size=(3, 3), stride=(1, 1), padding=(1, 1), bias=False)\n",
              "      (bn1): BatchNorm2d(64, eps=1e-05, momentum=0.1, affine=True, track_running_stats=True)\n",
              "      (relu): ReLU(inplace=True)\n",
              "      (conv2): Conv2d(64, 64, kernel_size=(3, 3), stride=(1, 1), padding=(1, 1), bias=False)\n",
              "      (bn2): BatchNorm2d(64, eps=1e-05, momentum=0.1, affine=True, track_running_stats=True)\n",
              "    )\n",
              "  )\n",
              "  (layer2): Sequential(\n",
              "    (0): BasicBlock(\n",
              "      (conv1): Conv2d(64, 128, kernel_size=(3, 3), stride=(2, 2), padding=(1, 1), bias=False)\n",
              "      (bn1): BatchNorm2d(128, eps=1e-05, momentum=0.1, affine=True, track_running_stats=True)\n",
              "      (relu): ReLU(inplace=True)\n",
              "      (conv2): Conv2d(128, 128, kernel_size=(3, 3), stride=(1, 1), padding=(1, 1), bias=False)\n",
              "      (bn2): BatchNorm2d(128, eps=1e-05, momentum=0.1, affine=True, track_running_stats=True)\n",
              "      (downsample): Sequential(\n",
              "        (0): Conv2d(64, 128, kernel_size=(1, 1), stride=(2, 2), bias=False)\n",
              "        (1): BatchNorm2d(128, eps=1e-05, momentum=0.1, affine=True, track_running_stats=True)\n",
              "      )\n",
              "    )\n",
              "    (1): BasicBlock(\n",
              "      (conv1): Conv2d(128, 128, kernel_size=(3, 3), stride=(1, 1), padding=(1, 1), bias=False)\n",
              "      (bn1): BatchNorm2d(128, eps=1e-05, momentum=0.1, affine=True, track_running_stats=True)\n",
              "      (relu): ReLU(inplace=True)\n",
              "      (conv2): Conv2d(128, 128, kernel_size=(3, 3), stride=(1, 1), padding=(1, 1), bias=False)\n",
              "      (bn2): BatchNorm2d(128, eps=1e-05, momentum=0.1, affine=True, track_running_stats=True)\n",
              "    )\n",
              "  )\n",
              "  (layer3): Sequential(\n",
              "    (0): BasicBlock(\n",
              "      (conv1): Conv2d(128, 256, kernel_size=(3, 3), stride=(2, 2), padding=(1, 1), bias=False)\n",
              "      (bn1): BatchNorm2d(256, eps=1e-05, momentum=0.1, affine=True, track_running_stats=True)\n",
              "      (relu): ReLU(inplace=True)\n",
              "      (conv2): Conv2d(256, 256, kernel_size=(3, 3), stride=(1, 1), padding=(1, 1), bias=False)\n",
              "      (bn2): BatchNorm2d(256, eps=1e-05, momentum=0.1, affine=True, track_running_stats=True)\n",
              "      (downsample): Sequential(\n",
              "        (0): Conv2d(128, 256, kernel_size=(1, 1), stride=(2, 2), bias=False)\n",
              "        (1): BatchNorm2d(256, eps=1e-05, momentum=0.1, affine=True, track_running_stats=True)\n",
              "      )\n",
              "    )\n",
              "    (1): BasicBlock(\n",
              "      (conv1): Conv2d(256, 256, kernel_size=(3, 3), stride=(1, 1), padding=(1, 1), bias=False)\n",
              "      (bn1): BatchNorm2d(256, eps=1e-05, momentum=0.1, affine=True, track_running_stats=True)\n",
              "      (relu): ReLU(inplace=True)\n",
              "      (conv2): Conv2d(256, 256, kernel_size=(3, 3), stride=(1, 1), padding=(1, 1), bias=False)\n",
              "      (bn2): BatchNorm2d(256, eps=1e-05, momentum=0.1, affine=True, track_running_stats=True)\n",
              "    )\n",
              "  )\n",
              "  (layer4): Sequential(\n",
              "    (0): BasicBlock(\n",
              "      (conv1): Conv2d(256, 512, kernel_size=(3, 3), stride=(2, 2), padding=(1, 1), bias=False)\n",
              "      (bn1): BatchNorm2d(512, eps=1e-05, momentum=0.1, affine=True, track_running_stats=True)\n",
              "      (relu): ReLU(inplace=True)\n",
              "      (conv2): Conv2d(512, 512, kernel_size=(3, 3), stride=(1, 1), padding=(1, 1), bias=False)\n",
              "      (bn2): BatchNorm2d(512, eps=1e-05, momentum=0.1, affine=True, track_running_stats=True)\n",
              "      (downsample): Sequential(\n",
              "        (0): Conv2d(256, 512, kernel_size=(1, 1), stride=(2, 2), bias=False)\n",
              "        (1): BatchNorm2d(512, eps=1e-05, momentum=0.1, affine=True, track_running_stats=True)\n",
              "      )\n",
              "    )\n",
              "    (1): BasicBlock(\n",
              "      (conv1): Conv2d(512, 512, kernel_size=(3, 3), stride=(1, 1), padding=(1, 1), bias=False)\n",
              "      (bn1): BatchNorm2d(512, eps=1e-05, momentum=0.1, affine=True, track_running_stats=True)\n",
              "      (relu): ReLU(inplace=True)\n",
              "      (conv2): Conv2d(512, 512, kernel_size=(3, 3), stride=(1, 1), padding=(1, 1), bias=False)\n",
              "      (bn2): BatchNorm2d(512, eps=1e-05, momentum=0.1, affine=True, track_running_stats=True)\n",
              "    )\n",
              "  )\n",
              "  (avgpool): AdaptiveAvgPool2d(output_size=(1, 1))\n",
              "  (fc): Linear(in_features=512, out_features=10, bias=True)\n",
              ")"
            ]
          },
          "metadata": {},
          "execution_count": 8
        }
      ]
    },
    {
      "cell_type": "code",
      "source": [
        "learning_rate = 0.01\n",
        "momentum = 0.5\n",
        "n_epochs = 5\n",
        "criterion = nn.CrossEntropyLoss()\n",
        "optimizer = optim.SGD(model.parameters(), lr=learning_rate,momentum=momentum)\n",
        "scheduler = StepLR(optimizer,step_size=2 , gamma=0.9)"
      ],
      "metadata": {
        "id": "yBj1IaRsn40l"
      },
      "execution_count": null,
      "outputs": []
    },
    {
      "cell_type": "code",
      "source": [
        "train_lossesr = []\n",
        "train_counterr = []\n",
        "test_lossesr = []"
      ],
      "metadata": {
        "id": "Y6eba62lrSCz"
      },
      "execution_count": null,
      "outputs": []
    },
    {
      "cell_type": "code",
      "source": [
        "def train(epoch):\n",
        "    model.train()\n",
        "    train_loss = 0\n",
        "    \n",
        "    for batch_idx, (data, target) in enumerate(train_loaderr):\n",
        "        optimizer.zero_grad()\n",
        "\n",
        "        if torch.cuda.is_available():\n",
        "            data = data.cuda()\n",
        "            target = target.cuda()\n",
        "\n",
        "        output = model(data)\n",
        "        loss = criterion(output, target)\n",
        "        loss.backward()\n",
        "        optimizer.step()\n",
        "\n",
        "        if batch_idx % 300 == 0: #every 300 * batchsize sample we print results\n",
        "            print('Train Epoch: {} [{}/{} ({:.0f}%)]\\tLoss: {:.6f}'.format(\n",
        "            epoch, batch_idx * len(data), len(train_loaderr.dataset),\n",
        "            100. * batch_idx / len(train_loaderr), loss.item()))\n",
        "      \n",
        "        train_loss += loss.item()\n",
        "    scheduler.step()\n",
        "    train_lossesr.append(train_loss)\n",
        "    train_counterr.append(epoch)\n",
        "\n",
        "    torch.save(model.state_dict(), 'model.pth')\n",
        "    torch.save(model.state_dict(), 'optimizer.pth')"
      ],
      "metadata": {
        "id": "S5V1f-yTrSTc"
      },
      "execution_count": null,
      "outputs": []
    },
    {
      "cell_type": "code",
      "source": [
        "def test():\n",
        "  model.eval()\n",
        "  test_loss = 0\n",
        "  correct = 0\n",
        "  with torch.no_grad():\n",
        "    for data, target in test_loaderr:\n",
        "\n",
        "        if torch.cuda.is_available():\n",
        "            data = data.cuda()\n",
        "            target = target.cuda()\n",
        "\n",
        "        output = model(data)\n",
        "        test_loss += criterion(output, target).item()\n",
        "        pred = output.data.max(1, keepdim=True)[1]\n",
        "        correct += pred.eq(target.data.view_as(pred)).sum()\n",
        "\n",
        "  test_loss /= len(test_loaderr.dataset)\n",
        "  test_lossesr.append(test_loss)\n",
        "  print('\\nTest set: Avg. loss: {:.4f}, Accuracy: {}/{} ({:.0f}%)\\n'.format(\n",
        "    test_loss, correct, len(test_loaderr.dataset),\n",
        "    100. * correct / len(test_loaderr.dataset)))"
      ],
      "metadata": {
        "id": "-fzEwpcCrSg0"
      },
      "execution_count": null,
      "outputs": []
    },
    {
      "cell_type": "code",
      "source": [
        "for epoch in range(1, n_epochs + 1):\n",
        "  train(epoch)\n",
        "  test()"
      ],
      "metadata": {
        "colab": {
          "base_uri": "https://localhost:8080/"
        },
        "id": "SoS_3fvKrSrH",
        "outputId": "7d673ba5-e6cf-4f21-968d-4a79d8a5f941"
      },
      "execution_count": null,
      "outputs": [
        {
          "output_type": "stream",
          "name": "stdout",
          "text": [
            "Train Epoch: 1 [0/60000 (0%)]\tLoss: 2.432032\n",
            "Train Epoch: 1 [19200/60000 (32%)]\tLoss: 0.685344\n",
            "Train Epoch: 1 [38400/60000 (64%)]\tLoss: 0.665854\n",
            "Train Epoch: 1 [57600/60000 (96%)]\tLoss: 0.543844\n",
            "\n",
            "Test set: Avg. loss: 0.0086, Accuracy: 8123/10000 (81%)\n",
            "\n",
            "Train Epoch: 2 [0/60000 (0%)]\tLoss: 0.527213\n",
            "Train Epoch: 2 [19200/60000 (32%)]\tLoss: 0.524524\n",
            "Train Epoch: 2 [38400/60000 (64%)]\tLoss: 0.605682\n",
            "Train Epoch: 2 [57600/60000 (96%)]\tLoss: 0.496376\n",
            "\n",
            "Test set: Avg. loss: 0.0079, Accuracy: 8257/10000 (83%)\n",
            "\n",
            "Train Epoch: 3 [0/60000 (0%)]\tLoss: 0.464718\n",
            "Train Epoch: 3 [19200/60000 (32%)]\tLoss: 0.491414\n",
            "Train Epoch: 3 [38400/60000 (64%)]\tLoss: 0.591919\n",
            "Train Epoch: 3 [57600/60000 (96%)]\tLoss: 0.467956\n",
            "\n",
            "Test set: Avg. loss: 0.0076, Accuracy: 8310/10000 (83%)\n",
            "\n",
            "Train Epoch: 4 [0/60000 (0%)]\tLoss: 0.440722\n",
            "Train Epoch: 4 [19200/60000 (32%)]\tLoss: 0.476341\n",
            "Train Epoch: 4 [38400/60000 (64%)]\tLoss: 0.585717\n",
            "Train Epoch: 4 [57600/60000 (96%)]\tLoss: 0.450285\n",
            "\n",
            "Test set: Avg. loss: 0.0074, Accuracy: 8342/10000 (83%)\n",
            "\n",
            "Train Epoch: 5 [0/60000 (0%)]\tLoss: 0.425652\n",
            "Train Epoch: 5 [19200/60000 (32%)]\tLoss: 0.467691\n",
            "Train Epoch: 5 [38400/60000 (64%)]\tLoss: 0.581211\n",
            "Train Epoch: 5 [57600/60000 (96%)]\tLoss: 0.433119\n"
          ]
        }
      ]
    }
  ]
}