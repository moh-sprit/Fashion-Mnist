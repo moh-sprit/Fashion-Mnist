{
  "nbformat": 4,
  "nbformat_minor": 0,
  "metadata": {
    "colab": {
      "name": "CNN.ipynb",
      "provenance": [],
      "collapsed_sections": []
    },
    "kernelspec": {
      "name": "python3",
      "display_name": "Python 3"
    },
    "language_info": {
      "name": "python"
    }
  },
  "cells": [
    {
      "cell_type": "code",
      "execution_count": null,
      "metadata": {
        "colab": {
          "base_uri": "https://localhost:8080/"
        },
        "id": "LtFT7_RqoHk1",
        "outputId": "71fbf6d8-871d-4772-8d30-b151f5a410ed"
      },
      "outputs": [
        {
          "output_type": "stream",
          "name": "stdout",
          "text": [
            "Mounted at /content/gdrive\n"
          ]
        }
      ],
      "source": [
        "from google.colab import drive\n",
        "drive.mount('/content/gdrive')"
      ]
    },
    {
      "cell_type": "code",
      "source": [
        "from HodaDatasetReader import read_hoda_cdb, read_hoda_dataset\n",
        "import tensorflow as tf\n",
        "from tensorflow import keras\n",
        "import matplotlib.pyplot as plt\n",
        "import numpy as np\n",
        "import cv2"
      ],
      "metadata": {
        "id": "2egVhb6yoJrx"
      },
      "execution_count": null,
      "outputs": []
    },
    {
      "cell_type": "code",
      "source": [
        "X_train, y_train = read_hoda_dataset(dataset_path='Train 60000.cdb',\n",
        "                                images_height=32,\n",
        "                                images_width=32,\n",
        "                                one_hot=False,\n",
        "                                reshape=True)\n",
        " \n",
        "X_test, y_test = read_hoda_dataset(dataset_path='Test 20000.cdb',\n",
        "                              images_height=32,\n",
        "                              images_width=32,\n",
        "                              one_hot=False,\n",
        "                              reshape=True)\n",
        "\n",
        "X_remaining, y_remaining = read_hoda_dataset(dataset_path='RemainingSamples.cdb',\n",
        "                              images_height=32,\n",
        "                              images_width=32,\n",
        "                              one_hot=False,\n",
        "                              reshape=True)"
      ],
      "metadata": {
        "id": "bXNCAQUWt2ZP"
      },
      "execution_count": null,
      "outputs": []
    },
    {
      "cell_type": "code",
      "source": [
        "import torch\n",
        "import torch.nn as nn\n",
        "import torch.nn.functional as F\n",
        "import torch.utils.data\n",
        "import torch.optim as optim\n",
        "from torch.optim.lr_scheduler import StepLR"
      ],
      "metadata": {
        "id": "vlbBBlGSuHWE"
      },
      "execution_count": null,
      "outputs": []
    },
    {
      "cell_type": "code",
      "source": [
        "torch.manual_seed(42)"
      ],
      "metadata": {
        "colab": {
          "base_uri": "https://localhost:8080/"
        },
        "id": "5d4UYGXSuI5A",
        "outputId": "2265fd28-d2a8-4274-e5c7-5b908109d14a"
      },
      "execution_count": null,
      "outputs": [
        {
          "output_type": "execute_result",
          "data": {
            "text/plain": [
              "<torch._C.Generator at 0x7f4c9710e4b0>"
            ]
          },
          "metadata": {},
          "execution_count": 5
        }
      ]
    },
    {
      "cell_type": "code",
      "source": [
        "X_train = X_train.reshape(60000,32,32)\n",
        "X_test = X_test.reshape(20000,32,32)\n",
        "X_train.shape\n",
        "#X_test.shape\n",
        "#X_train.shape"
      ],
      "metadata": {
        "colab": {
          "base_uri": "https://localhost:8080/"
        },
        "id": "1gLS_608uP7g",
        "outputId": "a4c18faa-7877-4164-f241-8a381adfad94"
      },
      "execution_count": null,
      "outputs": [
        {
          "output_type": "execute_result",
          "data": {
            "text/plain": [
              "(60000, 32, 32)"
            ]
          },
          "metadata": {},
          "execution_count": 6
        }
      ]
    },
    {
      "cell_type": "code",
      "source": [
        "import matplotlib.pyplot as plt\n",
        "for i in range(9):\t\n",
        "    plt.subplot(330 + 1 + i)\n",
        "    plt.imshow(X_train[i])\n",
        "plt.show()"
      ],
      "metadata": {
        "colab": {
          "base_uri": "https://localhost:8080/",
          "height": 268
        },
        "id": "slJ-CVqpuQzu",
        "outputId": "d7c546ca-2e0a-4e8f-c25d-72aaf1660722"
      },
      "execution_count": null,
      "outputs": [
        {
          "output_type": "display_data",
          "data": {
            "text/plain": [
              "<Figure size 432x288 with 9 Axes>"
            ],
            "image/png": "[encoded data removed]"
          },
          "metadata": {
            "needs_background": "light"
          }
        }
      ]
    },
    {
      "cell_type": "code",
      "source": [
        "BATCH_SIZE = 256\n",
        "\n",
        "torch_X_train = torch.from_numpy(X_train).type(torch.LongTensor)\n",
        "torch_y_train = torch.from_numpy(y_train).type(torch.LongTensor) \n",
        "\n",
        "torch_X_train = torch_X_train.view(-1,1,32,32).float()\n",
        "torch_X_train.shape"
      ],
      "metadata": {
        "id": "XPiA0vapxu_Y",
        "colab": {
          "base_uri": "https://localhost:8080/"
        },
        "outputId": "b6d4c002-c464-4561-f71d-625b140708d4"
      },
      "execution_count": null,
      "outputs": [
        {
          "output_type": "execute_result",
          "data": {
            "text/plain": [
              "torch.Size([60000, 1, 32, 32])"
            ]
          },
          "metadata": {},
          "execution_count": 8
        }
      ]
    },
    {
      "cell_type": "code",
      "source": [
        "torch_X_test = torch.from_numpy(X_test).type(torch.LongTensor)\n",
        "torch_y_test = torch.from_numpy(y_test).type(torch.LongTensor)\n",
        "\n",
        "torch_X_test = torch_X_test.view(-1,1,32,32).float()"
      ],
      "metadata": {
        "id": "Oo_4IXWSxvSN"
      },
      "execution_count": null,
      "outputs": []
    },
    {
      "cell_type": "code",
      "source": [
        "train = torch.utils.data.TensorDataset(torch_X_train,torch_y_train)\n",
        "test = torch.utils.data.TensorDataset(torch_X_test,torch_y_test)"
      ],
      "metadata": {
        "id": "pGi3YqHBxvkG"
      },
      "execution_count": null,
      "outputs": []
    },
    {
      "cell_type": "code",
      "source": [
        "train_loader = torch.utils.data.DataLoader(train, batch_size = BATCH_SIZE, shuffle = True)\n",
        "test_loader = torch.utils.data.DataLoader(test, batch_size = BATCH_SIZE, shuffle = Fulse)"
      ],
      "metadata": {
        "id": "m1_zPsjnCRQ5"
      },
      "execution_count": null,
      "outputs": []
    },
    {
      "cell_type": "code",
      "source": [
        "class CNN(nn.Module):\n",
        "\n",
        "    def __init__(self):\n",
        "        super(CNN, self).__init__()\n",
        "        self.conv1 = nn.Conv2d(1, 10, kernel_size=5)\n",
        "        self.conv2 = nn.Conv2d(10, 20, kernel_size=5)\n",
        "        self.conv2_drop = nn.Dropout2d()\n",
        "        self.fc1 = nn.Linear(500, 50)\n",
        "        self.fc2 = nn.Linear(50, 10)\n",
        "\n",
        "    def forward(self, x):\n",
        "        x = F.relu(F.max_pool2d(self.conv1(x), 2))\n",
        "        x = F.relu(F.max_pool2d(self.conv2_drop(self.conv2(x)), 2))\n",
        "        x = x.view(-1, 500)\n",
        "        x = F.relu(self.fc1(x))\n",
        "        x = F.dropout(x, training=self.training)\n",
        "        x = self.fc2(x)\n",
        "        return F.log_softmax(x)"
      ],
      "metadata": {
        "id": "g14JgWa4CRbl"
      },
      "execution_count": null,
      "outputs": []
    },
    {
      "cell_type": "code",
      "source": [
        "cnn = CNN()\n",
        "print(cnn)"
      ],
      "metadata": {
        "colab": {
          "base_uri": "https://localhost:8080/"
        },
        "id": "RS4UuopqCb6o",
        "outputId": "1bb8e8f4-57b1-43b6-94f7-6200f21ec538"
      },
      "execution_count": null,
      "outputs": [
        {
          "output_type": "stream",
          "name": "stdout",
          "text": [
            "CNN(\n",
            "  (conv1): Conv2d(1, 10, kernel_size=(5, 5), stride=(1, 1))\n",
            "  (conv2): Conv2d(10, 20, kernel_size=(5, 5), stride=(1, 1))\n",
            "  (conv2_drop): Dropout2d(p=0.5, inplace=False)\n",
            "  (fc1): Linear(in_features=500, out_features=50, bias=True)\n",
            "  (fc2): Linear(in_features=50, out_features=10, bias=True)\n",
            ")\n"
          ]
        }
      ]
    },
    {
      "cell_type": "code",
      "source": [
        "if torch.cuda.is_available():\n",
        "    cnn = cnn.cuda()"
      ],
      "metadata": {
        "id": "TilprPliCcGN"
      },
      "execution_count": null,
      "outputs": []
    },
    {
      "cell_type": "code",
      "source": [
        "it = iter(train_loader)\n",
        "X_batch, y_batch = next(it)\n",
        "print(X_batch.shape)\n",
        "print(y_batch.shape)\n",
        "\n",
        "#if torch.cuda.is_available():\n",
        "    #X_batch = X_batch.cuda()\n",
        "    #y_batch = y_batch.cuda()\n",
        "    \n",
        "print(cnn.forward(X_batch).shape)"
      ],
      "metadata": {
        "colab": {
          "base_uri": "https://localhost:8080/"
        },
        "id": "WeGmyb-PCcOl",
        "outputId": "49270a5a-3088-4d24-e075-6b6f36f31f4e"
      },
      "execution_count": null,
      "outputs": [
        {
          "output_type": "stream",
          "name": "stdout",
          "text": [
            "torch.Size([256, 1, 32, 32])\n",
            "torch.Size([256])\n",
            "torch.Size([256, 10])\n"
          ]
        },
        {
          "output_type": "stream",
          "name": "stderr",
          "text": [
            "/usr/local/lib/python3.7/dist-packages/ipykernel_launcher.py:18: UserWarning: Implicit dimension choice for log_softmax has been deprecated. Change the call to include dim=X as an argument.\n"
          ]
        }
      ]
    },
    {
      "cell_type": "code",
      "source": [
        "for batch_idx, (data, target) in enumerate(train_loader):\n",
        "    if batch_idx == 0:\n",
        "        print(data.shape)\n",
        "        print(target.shape)"
      ],
      "metadata": {
        "colab": {
          "base_uri": "https://localhost:8080/"
        },
        "id": "G13hU-9SCcWs",
        "outputId": "ccc88247-58b4-4e86-805b-906636afbdcd"
      },
      "execution_count": null,
      "outputs": [
        {
          "output_type": "stream",
          "name": "stdout",
          "text": [
            "torch.Size([256, 1, 32, 32])\n",
            "torch.Size([256])\n"
          ]
        }
      ]
    },
    {
      "cell_type": "code",
      "source": [
        "learning_rate = 0.01\n",
        "momentum = 0.5\n",
        "n_epochs = 15\n",
        "optimizer = optim.Adam(cnn.parameters(), lr=learning_rate, betas=(0.9, 0.999), eps=1e-08, weight_decay=0, amsgrad=False)\n",
        "\n",
        "scheduler = StepLR(optimizer,step_size=1 , gamma=0.9)\n",
        "#optimizer = optim.SGD(cnn.parameters(), lr=learning_rate,momentum=momentum)"
      ],
      "metadata": {
        "id": "g5tMKhK2EBaa"
      },
      "execution_count": null,
      "outputs": []
    },
    {
      "cell_type": "code",
      "source": [
        "train_losses = []\n",
        "train_counter = []\n",
        "test_losses = []"
      ],
      "metadata": {
        "id": "7mBWQPPWEBlI"
      },
      "execution_count": null,
      "outputs": []
    },
    {
      "cell_type": "code",
      "source": [
        "def train(epoch):\n",
        "    cnn.train()\n",
        "    train_loss = 0\n",
        "    scheduler.step()\n",
        "    for batch_idx, (data, target) in enumerate(train_loader):\n",
        "        optimizer.zero_grad()\n",
        "\n",
        "        if torch.cuda.is_available():\n",
        "            data = data.cuda()\n",
        "            target = target.cuda()\n",
        "\n",
        "        output = cnn(data)\n",
        "        loss = F.nll_loss(output, target)\n",
        "        loss.backward()\n",
        "        optimizer.step()\n",
        "\n",
        "        if batch_idx % 25 == 0: #every 25 * batchsize sample we print results\n",
        "            print('Train Epoch: {} [{}/{} ({:.0f}%)]\\tLoss: {:.6f}'.format(\n",
        "            epoch, batch_idx * len(data), len(train_loader.dataset),\n",
        "            100. * batch_idx / len(train_loader), loss.item()))\n",
        "      \n",
        "        train_loss += loss.item()\n",
        "\n",
        "    train_losses.append(train_loss)\n",
        "    train_counter.append(epoch)\n",
        "\n",
        "    torch.save(cnn.state_dict(), 'model.pth')\n",
        "    torch.save(cnn.state_dict(), 'optimizer.pth')"
      ],
      "metadata": {
        "id": "A1jHYnfZEBxY"
      },
      "execution_count": null,
      "outputs": []
    },
    {
      "cell_type": "code",
      "source": [
        "def test():\n",
        "  cnn.eval()\n",
        "  test_loss = 0\n",
        "  correct = 0\n",
        "  with torch.no_grad():\n",
        "    for data, target in test_loader:\n",
        "\n",
        "        if torch.cuda.is_available():\n",
        "            data = data.cuda()\n",
        "            target = target.cuda()\n",
        "\n",
        "        output = cnn(data)\n",
        "        test_loss += F.nll_loss(output, target, size_average=False).item()\n",
        "        pred = output.data.max(1, keepdim=True)[1]\n",
        "        correct += pred.eq(target.data.view_as(pred)).sum()\n",
        "\n",
        "  test_loss /= len(test_loader.dataset)\n",
        "  test_losses.append(test_loss)\n",
        "  print('\\nTest set: Avg. loss: {:.4f}, Accuracy: {}/{} ({:.0f}%)\\n'.format(\n",
        "    test_loss, correct, len(test_loader.dataset),\n",
        "    100. * correct / len(test_loader.dataset)))"
      ],
      "metadata": {
        "id": "M0MEuTRnEqxL"
      },
      "execution_count": null,
      "outputs": []
    },
    {
      "cell_type": "code",
      "source": [
        "for epoch in range(1, n_epochs + 1):\n",
        "  train(epoch)\n",
        "  test()"
      ],
      "metadata": {
        "colab": {
          "base_uri": "https://localhost:8080/"
        },
        "id": "BUoannE-Eq9E",
        "outputId": "335ce4da-154e-4500-ea86-e447f7ebe384"
      },
      "execution_count": null,
      "outputs": [
        {
          "output_type": "stream",
          "name": "stderr",
          "text": [
            "/usr/local/lib/python3.7/dist-packages/torch/optim/lr_scheduler.py:136: UserWarning: Detected call of `lr_scheduler.step()` before `optimizer.step()`. In PyTorch 1.1.0 and later, you should call them in the opposite order: `optimizer.step()` before `lr_scheduler.step()`.  Failure to do this will result in PyTorch skipping the first value of the learning rate schedule. See more details at https://pytorch.org/docs/stable/optim.html#how-to-adjust-learning-rate\n",
            "  \"https://pytorch.org/docs/stable/optim.html#how-to-adjust-learning-rate\", UserWarning)\n",
            "/usr/local/lib/python3.7/dist-packages/ipykernel_launcher.py:18: UserWarning: Implicit dimension choice for log_softmax has been deprecated. Change the call to include dim=X as an argument.\n"
          ]
        },
        {
          "output_type": "stream",
          "name": "stdout",
          "text": [
            "Train Epoch: 1 [0/60000 (0%)]\tLoss: 0.037512\n",
            "Train Epoch: 1 [6400/60000 (11%)]\tLoss: 0.169066\n",
            "Train Epoch: 1 [12800/60000 (21%)]\tLoss: 0.221198\n",
            "Train Epoch: 1 [19200/60000 (32%)]\tLoss: 0.078384\n",
            "Train Epoch: 1 [25600/60000 (43%)]\tLoss: 0.131505\n",
            "Train Epoch: 1 [32000/60000 (53%)]\tLoss: 0.139803\n",
            "Train Epoch: 1 [38400/60000 (64%)]\tLoss: 0.148466\n",
            "Train Epoch: 1 [44800/60000 (74%)]\tLoss: 0.165092\n",
            "Train Epoch: 1 [51200/60000 (85%)]\tLoss: 0.147568\n",
            "Train Epoch: 1 [57600/60000 (96%)]\tLoss: 0.062715\n"
          ]
        },
        {
          "output_type": "stream",
          "name": "stderr",
          "text": [
            "/usr/local/lib/python3.7/dist-packages/torch/nn/_reduction.py:42: UserWarning: size_average and reduce args will be deprecated, please use reduction='sum' instead.\n",
            "  warnings.warn(warning.format(ret))\n"
          ]
        },
        {
          "output_type": "stream",
          "name": "stdout",
          "text": [
            "\n",
            "Test set: Avg. loss: 0.0820, Accuracy: 19460/20000 (97%)\n",
            "\n",
            "Train Epoch: 2 [0/60000 (0%)]\tLoss: 0.082326\n",
            "Train Epoch: 2 [6400/60000 (11%)]\tLoss: 0.075071\n",
            "Train Epoch: 2 [12800/60000 (21%)]\tLoss: 0.061890\n",
            "Train Epoch: 2 [19200/60000 (32%)]\tLoss: 0.102009\n",
            "Train Epoch: 2 [25600/60000 (43%)]\tLoss: 0.098965\n",
            "Train Epoch: 2 [32000/60000 (53%)]\tLoss: 0.058255\n",
            "Train Epoch: 2 [38400/60000 (64%)]\tLoss: 0.152646\n",
            "Train Epoch: 2 [44800/60000 (74%)]\tLoss: 0.082218\n",
            "Train Epoch: 2 [51200/60000 (85%)]\tLoss: 0.100554\n",
            "Train Epoch: 2 [57600/60000 (96%)]\tLoss: 0.094894\n",
            "\n",
            "Test set: Avg. loss: 0.0704, Accuracy: 19572/20000 (98%)\n",
            "\n",
            "Train Epoch: 3 [0/60000 (0%)]\tLoss: 0.078988\n",
            "Train Epoch: 3 [6400/60000 (11%)]\tLoss: 0.125634\n",
            "Train Epoch: 3 [12800/60000 (21%)]\tLoss: 0.089002\n",
            "Train Epoch: 3 [19200/60000 (32%)]\tLoss: 0.059983\n",
            "Train Epoch: 3 [25600/60000 (43%)]\tLoss: 0.110667\n",
            "Train Epoch: 3 [32000/60000 (53%)]\tLoss: 0.087427\n",
            "Train Epoch: 3 [38400/60000 (64%)]\tLoss: 0.081967\n",
            "Train Epoch: 3 [44800/60000 (74%)]\tLoss: 0.113728\n",
            "Train Epoch: 3 [51200/60000 (85%)]\tLoss: 0.055400\n",
            "Train Epoch: 3 [57600/60000 (96%)]\tLoss: 0.078938\n",
            "\n",
            "Test set: Avg. loss: 0.0658, Accuracy: 19586/20000 (98%)\n",
            "\n",
            "Train Epoch: 4 [0/60000 (0%)]\tLoss: 0.079188\n",
            "Train Epoch: 4 [6400/60000 (11%)]\tLoss: 0.071904\n",
            "Train Epoch: 4 [12800/60000 (21%)]\tLoss: 0.157425\n",
            "Train Epoch: 4 [19200/60000 (32%)]\tLoss: 0.056479\n",
            "Train Epoch: 4 [25600/60000 (43%)]\tLoss: 0.054241\n",
            "Train Epoch: 4 [32000/60000 (53%)]\tLoss: 0.068224\n",
            "Train Epoch: 4 [38400/60000 (64%)]\tLoss: 0.088035\n",
            "Train Epoch: 4 [44800/60000 (74%)]\tLoss: 0.077515\n",
            "Train Epoch: 4 [51200/60000 (85%)]\tLoss: 0.066192\n",
            "Train Epoch: 4 [57600/60000 (96%)]\tLoss: 0.121450\n",
            "\n",
            "Test set: Avg. loss: 0.0560, Accuracy: 19677/20000 (98%)\n",
            "\n",
            "Train Epoch: 5 [0/60000 (0%)]\tLoss: 0.049170\n",
            "Train Epoch: 5 [6400/60000 (11%)]\tLoss: 0.043712\n",
            "Train Epoch: 5 [12800/60000 (21%)]\tLoss: 0.113867\n",
            "Train Epoch: 5 [19200/60000 (32%)]\tLoss: 0.057836\n",
            "Train Epoch: 5 [25600/60000 (43%)]\tLoss: 0.082038\n",
            "Train Epoch: 5 [32000/60000 (53%)]\tLoss: 0.060378\n",
            "Train Epoch: 5 [38400/60000 (64%)]\tLoss: 0.138334\n",
            "Train Epoch: 5 [44800/60000 (74%)]\tLoss: 0.107778\n",
            "Train Epoch: 5 [51200/60000 (85%)]\tLoss: 0.074989\n",
            "Train Epoch: 5 [57600/60000 (96%)]\tLoss: 0.071525\n",
            "\n",
            "Test set: Avg. loss: 0.0567, Accuracy: 19665/20000 (98%)\n",
            "\n",
            "Train Epoch: 6 [0/60000 (0%)]\tLoss: 0.061700\n",
            "Train Epoch: 6 [6400/60000 (11%)]\tLoss: 0.059446\n",
            "Train Epoch: 6 [12800/60000 (21%)]\tLoss: 0.151812\n",
            "Train Epoch: 6 [19200/60000 (32%)]\tLoss: 0.075291\n",
            "Train Epoch: 6 [25600/60000 (43%)]\tLoss: 0.111037\n",
            "Train Epoch: 6 [32000/60000 (53%)]\tLoss: 0.074508\n",
            "Train Epoch: 6 [38400/60000 (64%)]\tLoss: 0.057044\n",
            "Train Epoch: 6 [44800/60000 (74%)]\tLoss: 0.036077\n",
            "Train Epoch: 6 [51200/60000 (85%)]\tLoss: 0.057767\n",
            "Train Epoch: 6 [57600/60000 (96%)]\tLoss: 0.040294\n",
            "\n",
            "Test set: Avg. loss: 0.0498, Accuracy: 19711/20000 (99%)\n",
            "\n",
            "Train Epoch: 7 [0/60000 (0%)]\tLoss: 0.050110\n",
            "Train Epoch: 7 [6400/60000 (11%)]\tLoss: 0.048951\n",
            "Train Epoch: 7 [12800/60000 (21%)]\tLoss: 0.109563\n",
            "Train Epoch: 7 [19200/60000 (32%)]\tLoss: 0.037423\n",
            "Train Epoch: 7 [25600/60000 (43%)]\tLoss: 0.098063\n",
            "Train Epoch: 7 [32000/60000 (53%)]\tLoss: 0.079034\n",
            "Train Epoch: 7 [38400/60000 (64%)]\tLoss: 0.073111\n",
            "Train Epoch: 7 [44800/60000 (74%)]\tLoss: 0.082212\n",
            "Train Epoch: 7 [51200/60000 (85%)]\tLoss: 0.067409\n",
            "Train Epoch: 7 [57600/60000 (96%)]\tLoss: 0.022835\n",
            "\n",
            "Test set: Avg. loss: 0.0482, Accuracy: 19706/20000 (99%)\n",
            "\n",
            "Train Epoch: 8 [0/60000 (0%)]\tLoss: 0.090790\n",
            "Train Epoch: 8 [6400/60000 (11%)]\tLoss: 0.102334\n",
            "Train Epoch: 8 [12800/60000 (21%)]\tLoss: 0.097998\n",
            "Train Epoch: 8 [19200/60000 (32%)]\tLoss: 0.043293\n",
            "Train Epoch: 8 [25600/60000 (43%)]\tLoss: 0.051005\n",
            "Train Epoch: 8 [32000/60000 (53%)]\tLoss: 0.072947\n",
            "Train Epoch: 8 [38400/60000 (64%)]\tLoss: 0.102558\n",
            "Train Epoch: 8 [44800/60000 (74%)]\tLoss: 0.054501\n",
            "Train Epoch: 8 [51200/60000 (85%)]\tLoss: 0.050744\n",
            "Train Epoch: 8 [57600/60000 (96%)]\tLoss: 0.051472\n",
            "\n",
            "Test set: Avg. loss: 0.0549, Accuracy: 19660/20000 (98%)\n",
            "\n",
            "Train Epoch: 9 [0/60000 (0%)]\tLoss: 0.030245\n",
            "Train Epoch: 9 [6400/60000 (11%)]\tLoss: 0.043581\n",
            "Train Epoch: 9 [12800/60000 (21%)]\tLoss: 0.094697\n",
            "Train Epoch: 9 [19200/60000 (32%)]\tLoss: 0.048663\n",
            "Train Epoch: 9 [25600/60000 (43%)]\tLoss: 0.042828\n",
            "Train Epoch: 9 [32000/60000 (53%)]\tLoss: 0.025102\n",
            "Train Epoch: 9 [38400/60000 (64%)]\tLoss: 0.090414\n",
            "Train Epoch: 9 [44800/60000 (74%)]\tLoss: 0.052334\n",
            "Train Epoch: 9 [51200/60000 (85%)]\tLoss: 0.026094\n",
            "Train Epoch: 9 [57600/60000 (96%)]\tLoss: 0.038215\n",
            "\n",
            "Test set: Avg. loss: 0.0469, Accuracy: 19711/20000 (99%)\n",
            "\n",
            "Train Epoch: 10 [0/60000 (0%)]\tLoss: 0.053831\n",
            "Train Epoch: 10 [6400/60000 (11%)]\tLoss: 0.060972\n",
            "Train Epoch: 10 [12800/60000 (21%)]\tLoss: 0.062400\n",
            "Train Epoch: 10 [19200/60000 (32%)]\tLoss: 0.057541\n",
            "Train Epoch: 10 [25600/60000 (43%)]\tLoss: 0.071306\n",
            "Train Epoch: 10 [32000/60000 (53%)]\tLoss: 0.068896\n",
            "Train Epoch: 10 [38400/60000 (64%)]\tLoss: 0.060254\n",
            "Train Epoch: 10 [44800/60000 (74%)]\tLoss: 0.078663\n",
            "Train Epoch: 10 [51200/60000 (85%)]\tLoss: 0.057247\n",
            "Train Epoch: 10 [57600/60000 (96%)]\tLoss: 0.019732\n",
            "\n",
            "Test set: Avg. loss: 0.0517, Accuracy: 19711/20000 (99%)\n",
            "\n",
            "Train Epoch: 11 [0/60000 (0%)]\tLoss: 0.044678\n",
            "Train Epoch: 11 [6400/60000 (11%)]\tLoss: 0.066670\n",
            "Train Epoch: 11 [12800/60000 (21%)]\tLoss: 0.078592\n",
            "Train Epoch: 11 [19200/60000 (32%)]\tLoss: 0.027594\n",
            "Train Epoch: 11 [25600/60000 (43%)]\tLoss: 0.032922\n",
            "Train Epoch: 11 [32000/60000 (53%)]\tLoss: 0.045734\n",
            "Train Epoch: 11 [38400/60000 (64%)]\tLoss: 0.062526\n",
            "Train Epoch: 11 [44800/60000 (74%)]\tLoss: 0.082243\n",
            "Train Epoch: 11 [51200/60000 (85%)]\tLoss: 0.041292\n",
            "Train Epoch: 11 [57600/60000 (96%)]\tLoss: 0.050013\n",
            "\n",
            "Test set: Avg. loss: 0.0433, Accuracy: 19748/20000 (99%)\n",
            "\n",
            "Train Epoch: 12 [0/60000 (0%)]\tLoss: 0.042547\n",
            "Train Epoch: 12 [6400/60000 (11%)]\tLoss: 0.065009\n",
            "Train Epoch: 12 [12800/60000 (21%)]\tLoss: 0.089873\n",
            "Train Epoch: 12 [19200/60000 (32%)]\tLoss: 0.019972\n",
            "Train Epoch: 12 [25600/60000 (43%)]\tLoss: 0.020623\n",
            "Train Epoch: 12 [32000/60000 (53%)]\tLoss: 0.084851\n",
            "Train Epoch: 12 [38400/60000 (64%)]\tLoss: 0.047650\n",
            "Train Epoch: 12 [44800/60000 (74%)]\tLoss: 0.053709\n",
            "Train Epoch: 12 [51200/60000 (85%)]\tLoss: 0.039490\n",
            "Train Epoch: 12 [57600/60000 (96%)]\tLoss: 0.055358\n",
            "\n",
            "Test set: Avg. loss: 0.0450, Accuracy: 19766/20000 (99%)\n",
            "\n",
            "Train Epoch: 13 [0/60000 (0%)]\tLoss: 0.023180\n",
            "Train Epoch: 13 [6400/60000 (11%)]\tLoss: 0.053779\n",
            "Train Epoch: 13 [12800/60000 (21%)]\tLoss: 0.052703\n",
            "Train Epoch: 13 [19200/60000 (32%)]\tLoss: 0.028946\n",
            "Train Epoch: 13 [25600/60000 (43%)]\tLoss: 0.026264\n",
            "Train Epoch: 13 [32000/60000 (53%)]\tLoss: 0.051214\n",
            "Train Epoch: 13 [38400/60000 (64%)]\tLoss: 0.086800\n",
            "Train Epoch: 13 [44800/60000 (74%)]\tLoss: 0.038719\n",
            "Train Epoch: 13 [51200/60000 (85%)]\tLoss: 0.011547\n",
            "Train Epoch: 13 [57600/60000 (96%)]\tLoss: 0.055588\n",
            "\n",
            "Test set: Avg. loss: 0.0490, Accuracy: 19742/20000 (99%)\n",
            "\n",
            "Train Epoch: 14 [0/60000 (0%)]\tLoss: 0.064021\n",
            "Train Epoch: 14 [6400/60000 (11%)]\tLoss: 0.045419\n",
            "Train Epoch: 14 [12800/60000 (21%)]\tLoss: 0.057495\n",
            "Train Epoch: 14 [19200/60000 (32%)]\tLoss: 0.042468\n",
            "Train Epoch: 14 [25600/60000 (43%)]\tLoss: 0.054901\n",
            "Train Epoch: 14 [32000/60000 (53%)]\tLoss: 0.046518\n",
            "Train Epoch: 14 [38400/60000 (64%)]\tLoss: 0.047064\n",
            "Train Epoch: 14 [44800/60000 (74%)]\tLoss: 0.051572\n",
            "Train Epoch: 14 [51200/60000 (85%)]\tLoss: 0.031625\n",
            "Train Epoch: 14 [57600/60000 (96%)]\tLoss: 0.034640\n",
            "\n",
            "Test set: Avg. loss: 0.0454, Accuracy: 19756/20000 (99%)\n",
            "\n",
            "Train Epoch: 15 [0/60000 (0%)]\tLoss: 0.029465\n",
            "Train Epoch: 15 [6400/60000 (11%)]\tLoss: 0.053213\n",
            "Train Epoch: 15 [12800/60000 (21%)]\tLoss: 0.068840\n",
            "Train Epoch: 15 [19200/60000 (32%)]\tLoss: 0.043236\n",
            "Train Epoch: 15 [25600/60000 (43%)]\tLoss: 0.023952\n",
            "Train Epoch: 15 [32000/60000 (53%)]\tLoss: 0.041216\n",
            "Train Epoch: 15 [38400/60000 (64%)]\tLoss: 0.047588\n",
            "Train Epoch: 15 [44800/60000 (74%)]\tLoss: 0.039679\n",
            "Train Epoch: 15 [51200/60000 (85%)]\tLoss: 0.043690\n",
            "Train Epoch: 15 [57600/60000 (96%)]\tLoss: 0.031674\n",
            "\n",
            "Test set: Avg. loss: 0.0438, Accuracy: 19766/20000 (99%)\n",
            "\n"
          ]
        }
      ]
    }
  ]
}